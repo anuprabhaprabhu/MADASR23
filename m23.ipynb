{
 "cells": [
  {
   "cell_type": "code",
   "execution_count": 1,
   "metadata": {},
   "outputs": [],
   "source": [
    "import pandas as pd\n",
    "import numpy as np\n",
    "import matplotlib.pyplot as plt\n",
    "\n",
    "import torchaudio\n",
    "import kaldiio\n",
    "import torch\n",
    "import torch.nn as nn\n",
    "\n",
    "import random\n",
    "from torch.nn.utils.rnn import pack_padded_sequence\n",
    "from torch import nn, optim"
   ]
  },
  {
   "cell_type": "code",
   "execution_count": 3,
   "metadata": {},
   "outputs": [
    {
     "name": "stdout",
     "output_type": "stream",
     "text": [
      "/mnt/hdd1/MAD_ASR_hdd1/mad_trail/bn/train/D5/feats.pt\n"
     ]
    }
   ],
   "source": [
    "# read utt2dur file for \"BN\"\n",
    "file_path = '/mnt/hdd1/MAD_ASR_hdd1/mad_trail/'\n",
    "\n",
    "file = '/mnt/hdd1/MAD_ASR_hdd1/mad_trail/bn/train/D5/feats.pt'\n"
   ]
  },
  {
   "cell_type": "code",
   "execution_count": 7,
   "metadata": {},
   "outputs": [],
   "source": [
    "# data = kaldiio.load_ark(file)\n",
    "\n",
    "data = torch.load(file)\n"
   ]
  },
  {
   "cell_type": "code",
   "execution_count": 15,
   "metadata": {},
   "outputs": [
    {
     "name": "stderr",
     "output_type": "stream",
     "text": [
      "/tmp/ipykernel_6972/3176914319.py:9: UserWarning: To copy construct from a tensor, it is recommended to use sourceTensor.clone().detach() or sourceTensor.clone().detach().requires_grad_(True), rather than torch.tensor(sourceTensor).\n",
      "  feats.append(torch.tensor(value).clone().detach())\n"
     ]
    }
   ],
   "source": [
    "# Convert data to tensors\n",
    "tensor_dict = {}\n",
    "feats = []\n",
    "# Convert data to tensors and store in the dictionary\n",
    "for key, value in data:\n",
    "    # tensor_dict[key] = torch.tensor(value).unsqueeze(0)\n",
    "    # print(torch.tensor(value).shape)\n",
    "    # print((torch.tensor(value).clone().detach()).shape)\n",
    "    feats.append(torch.tensor(value).clone().detach())\n",
    "\n"
   ]
  },
  {
   "cell_type": "code",
   "execution_count": 16,
   "metadata": {},
   "outputs": [
    {
     "name": "stdout",
     "output_type": "stream",
     "text": [
      "80\n"
     ]
    }
   ],
   "source": [
    "print(len(feats))"
   ]
  },
  {
   "cell_type": "code",
   "execution_count": 17,
   "metadata": {},
   "outputs": [],
   "source": [
    "# collate \n",
    "def collate_fn(batch):\n",
    "    # Get the maximum sequence length along the third dimension\n",
    "    max_length = max(sample.shape[1] for sample in batch)\n",
    "    # Pad the samples to have the same length\n",
    "    padded_batch = []\n",
    "    for sample in batch:\n",
    "        # print(sample.shape)\n",
    "        pad_length = max_length - sample.shape[1]\n",
    "        padded_sample = torch.nn.functional.pad(sample, (0, pad_length))\n",
    "        # print(padded_sample.shape)\n",
    "        padded_batch.append(padded_sample)\n",
    "\n",
    "    return torch.stack(padded_batch)\n"
   ]
  },
  {
   "cell_type": "code",
   "execution_count": 18,
   "metadata": {},
   "outputs": [],
   "source": [
    "# dataloader\n",
    "\n",
    "from torch.utils.data import DataLoader \n",
    "\n",
    "dataloader = DataLoader(feats, batch_size=32, shuffle=True, collate_fn=collate_fn)"
   ]
  },
  {
   "cell_type": "code",
   "execution_count": 19,
   "metadata": {},
   "outputs": [
    {
     "name": "stdout",
     "output_type": "stream",
     "text": [
      "<class 'torch.Tensor'>\n",
      "torch.Size([32, 512, 604])\n"
     ]
    }
   ],
   "source": [
    "# check = iter(dataloader)\n",
    "# for i in check:\n",
    "#     print(type(i))\n",
    "#     print(i.shape)\n",
    "#     break"
   ]
  },
  {
   "cell_type": "code",
   "execution_count": 193,
   "metadata": {},
   "outputs": [],
   "source": [
    "###########   Task 1 ---- invert input (x, 512) -- done\n",
    "\n",
    "##########    Task 2 ---- check LSTM -- Bi LSTM"
   ]
  },
  {
   "cell_type": "code",
   "execution_count": 20,
   "metadata": {},
   "outputs": [],
   "source": [
    "### Lstm blocks\n",
    "class LSTMModel(nn.Module):\n",
    "    def __init__(self, input_size, hidden_size, num_layers, output_size):\n",
    "        super(LSTMModel, self).__init__()\n",
    "        self.hidden_size = hidden_size\n",
    "        self.num_layers = num_layers\n",
    "        self.lstm = nn.LSTM(input_size, hidden_size, num_layers, batch_first=True)\n",
    "        self.fc = nn.Linear(hidden_size, output_size)\n",
    "        \n",
    "    def forward(self, x):\n",
    "\n",
    "        # out,_ = self.lstm(x, (h0, c0))\n",
    "        x=x.transpose(1,2)\n",
    "        out, _ = self.lstm(x)\n",
    "        out = self.fc(out[:, -1, :])  # Use only the last output of the sequence\n",
    "        # out = out.transpose(1, 2).reshape(-1, batch_size).transpose(1, 0)\n",
    "        return out\n",
    "    "
   ]
  },
  {
   "cell_type": "code",
   "execution_count": 21,
   "metadata": {},
   "outputs": [],
   "source": [
    "### Bi-Lstm blocks\n",
    "class BILSTMModel(nn.Module):\n",
    "    def __init__(self, input_size, hidden_size, num_layers, output_size):\n",
    "        super(BILSTMModel, self).__init__()\n",
    "        self.hidden_size = hidden_size\n",
    "        self.num_layers = num_layers\n",
    "        self.lstm = nn.LSTM(input_size, hidden_size, num_layers, batch_first=True, bidirectional=True)\n",
    "        self.linear = nn.Linear(hidden_size, output_size)\n",
    "        \n",
    "    def forward(self, x):\n",
    "        # out,_ = self.lstm(x, (h0, c0))\n",
    "        x=x.transpose(1,2)\n",
    "        out, _ = self.lstm(x)\n",
    "        \n",
    "        out = self.linear(out[:, -1, :])  # Use only the last output of the sequence\n",
    "        return out\n",
    " \n",
    "   "
   ]
  },
  {
   "cell_type": "code",
   "execution_count": 22,
   "metadata": {},
   "outputs": [],
   "source": [
    "it = iter(dataloader)\n",
    "first = next(it)\n",
    "input_size=first.shape[1]\n",
    "hidden_size = 128\n",
    "num_layers = 4\n",
    "output_size = 8  # Modify this according to your specific task\n",
    "\n",
    "lstm_model = LSTMModel(input_size, hidden_size, num_layers, output_size)\n",
    "\n",
    "# lstm_model = LSTMModel(input_size, hidden_size, num_layers, output_size)"
   ]
  },
  {
   "cell_type": "code",
   "execution_count": 25,
   "metadata": {},
   "outputs": [
    {
     "name": "stdout",
     "output_type": "stream",
     "text": [
      "shape of input torch.Size([32, 512, 604])\n",
      "shape of output torch.Size([32, 8])\n",
      "shape of input torch.Size([32, 512, 472])\n",
      "shape of output torch.Size([32, 8])\n",
      "shape of input torch.Size([16, 512, 504])\n",
      "shape of output torch.Size([16, 8])\n"
     ]
    }
   ],
   "source": [
    "for inputs in dataloader:\n",
    "    print('shape of input',inputs.shape)\n",
    "    output=lstm_model(inputs)\n",
    "    print('shape of output', output.shape)\n"
   ]
  },
  {
   "cell_type": "code",
   "execution_count": 24,
   "metadata": {},
   "outputs": [
    {
     "name": "stdout",
     "output_type": "stream",
     "text": [
      "tensor([[-0.0387, -0.0555, -0.0513, -0.0080,  0.0287,  0.0031, -0.0486, -0.0581],\n",
      "        [-0.0387, -0.0555, -0.0513, -0.0080,  0.0287,  0.0031, -0.0486, -0.0581],\n",
      "        [-0.0387, -0.0555, -0.0514, -0.0081,  0.0287,  0.0033, -0.0485, -0.0581],\n",
      "        [-0.0387, -0.0555, -0.0513, -0.0080,  0.0287,  0.0031, -0.0486, -0.0581],\n",
      "        [-0.0387, -0.0555, -0.0513, -0.0080,  0.0287,  0.0031, -0.0486, -0.0581],\n",
      "        [-0.0387, -0.0555, -0.0513, -0.0080,  0.0287,  0.0031, -0.0486, -0.0581],\n",
      "        [-0.0387, -0.0555, -0.0513, -0.0080,  0.0287,  0.0031, -0.0486, -0.0581],\n",
      "        [-0.0387, -0.0555, -0.0513, -0.0080,  0.0287,  0.0031, -0.0486, -0.0581],\n",
      "        [-0.0387, -0.0555, -0.0513, -0.0080,  0.0287,  0.0031, -0.0486, -0.0581],\n",
      "        [-0.0387, -0.0555, -0.0513, -0.0080,  0.0287,  0.0031, -0.0486, -0.0581],\n",
      "        [-0.0387, -0.0555, -0.0513, -0.0080,  0.0287,  0.0031, -0.0486, -0.0581],\n",
      "        [-0.0387, -0.0555, -0.0513, -0.0080,  0.0287,  0.0031, -0.0486, -0.0581],\n",
      "        [-0.0387, -0.0555, -0.0513, -0.0080,  0.0287,  0.0031, -0.0486, -0.0581],\n",
      "        [-0.0387, -0.0555, -0.0513, -0.0080,  0.0287,  0.0031, -0.0486, -0.0581],\n",
      "        [-0.0387, -0.0555, -0.0513, -0.0080,  0.0287,  0.0031, -0.0486, -0.0581],\n",
      "        [-0.0387, -0.0555, -0.0513, -0.0080,  0.0287,  0.0031, -0.0486, -0.0581]],\n",
      "       grad_fn=<AddmmBackward0>)\n"
     ]
    }
   ],
   "source": [
    "print(output)"
   ]
  },
  {
   "cell_type": "code",
   "execution_count": null,
   "metadata": {},
   "outputs": [],
   "source": [
    "def train(model,trainloader, valloader):\n",
    "    device = torch.device('cuda' if torch.cuda.is_available() else 'cpu')\n",
    "    # model.train().to(device)\n",
    "\n",
    "    criterion = nn.CrossEntropyLoss()\n",
    "    optimizer = optim.Adam(model.parameters())\n",
    "\n",
    "    val_loss_min = np.inf\n",
    "\n",
    "    train_losses = []\n",
    "    val_losses = []\n",
    "\n",
    "    train_accuracies = []\n",
    "    val_accuracies = []\n",
    "\n",
    "    for i_epoch in range(n_epochs):\n",
    "        epoch_train_loss = 0\n",
    "        epoch_train_acc = 0\n",
    "        model.train().to(device)\n",
    "        for batch in tqdm(trainloader, desc=\"Train\"):\n",
    "            batch_x, batch_y = batch\n",
    "            # batch_x, batch_y = batch_x.float().to(device), batch_y.long().view(-1).to(device)\n",
    "            y_hat = model(batch_x)\n",
    "            loss = criterion(y_hat, batch_y)\n",
    "            epoch_train_loss += loss.item()\n",
    "            optimizer.zero_grad()\n",
    "            loss.backward()\n",
    "            optimizer.step()\n",
    "\n",
    "            _, max_indices = torch.max(y_hat, 1)\n",
    "            epoch_train_acc += (max_indices == batch_y).sum().data.cpu().numpy()/max_indices.size()[0]\n",
    "    \n",
    "        epoch_train_loss = epoch_train_loss/len(trainloader)\n",
    "        epoch_train_acc = epoch_train_acc/len(trainloader)\n",
    "        train_losses.append(epoch_train_loss)\n",
    "        train_accuracies.append(epoch_train_acc)\n",
    "\n",
    "\n",
    "        model.eval()\n",
    "        with torch.no_grad():\n",
    "            epoch_val_loss = 0\n",
    "            epoch_val_acc = 0\n",
    "            for batch in tqdm(valloader, desc=\"Val  \"):\n",
    "                batch_x, batch_y = batch\n",
    "                batch_x, batch_y = batch_x.float().to(device), batch_y.long().view(-1).to(device)\n",
    "                y_hat = model(batch_x)\n",
    "                loss = criterion(y_hat, batch_y)\n",
    "                epoch_val_loss += loss.item()\n",
    "\n",
    "                _, max_indices = torch.max(y_hat, 1)\n",
    "                epoch_val_acc += (max_indices == batch_y).sum().data.cpu().numpy()/max_indices.size()[0]\n",
    "\n",
    "            epoch_val_loss = epoch_val_loss/len(valloader)\n",
    "            epoch_val_acc = epoch_val_acc/len(valloader)\n",
    "            val_losses.append(epoch_val_loss)\n",
    "            val_accuracies.append(epoch_val_acc)\n",
    "\n",
    "            if epoch_val_loss < val_loss_min:\n",
    "                torch.save(model.state_dict(), save_path)\n",
    "                tqdm.write(f'Validation loss reduced from {val_loss_min:.6f} to {epoch_val_loss:.6f}, saving model at {save_path} ...')\n",
    "                val_loss_min = epoch_val_loss\n",
    "\n",
    "        if scheduler:\n",
    "            scheduler.step()\n",
    "            tqdm.write(f'Updating lr to {scheduler.get_last_lr()}')\n",
    "\n",
    "        tqdm.write(f'Epoch : {i_epoch+1:02}\\nTrain Loss = {epoch_train_loss:.4f}\\tTrain Acc = {epoch_train_acc}\\n  Val Loss = {epoch_val_loss:.4f}\\t  Val Acc = {epoch_val_acc}\\n')\n",
    "\n",
    "    loss_dict = {\"train_losses\" : train_losses,\n",
    "                 \"val_losses\" : val_losses,\n",
    "                 \"train_accuracies\" : train_accuracies,\n",
    "                 \"val_Accuracies\" : val_accuracies}\n",
    "\n",
    "    return loss_dict\n",
    "\n"
   ]
  }
 ],
 "metadata": {
  "kernelspec": {
   "display_name": "Python 3",
   "language": "python",
   "name": "python3"
  },
  "language_info": {
   "codemirror_mode": {
    "name": "ipython",
    "version": 3
   },
   "file_extension": ".py",
   "mimetype": "text/x-python",
   "name": "python",
   "nbconvert_exporter": "python",
   "pygments_lexer": "ipython3",
   "version": "3.9.13"
  },
  "orig_nbformat": 4,
  "vscode": {
   "interpreter": {
    "hash": "916dbcbb3f70747c44a77c7bcd40155683ae19c65e1c03b4aa3499c5328201f1"
   }
  }
 },
 "nbformat": 4,
 "nbformat_minor": 2
}
